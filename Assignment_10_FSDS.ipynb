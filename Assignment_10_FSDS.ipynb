{
 "cells": [
  {
   "cell_type": "markdown",
   "id": "43a38c89",
   "metadata": {},
   "source": [
    "# 1. How do you distinguish between shutil.copy() and shutil.copytree()?\n",
    "\n",
    "ANSWER- The shutil.copy() method is used to copy the contents of a single file to another file/folder.\n",
    "        The shutil.copytree() method is used to copy the entire contents of a folder to other folder."
   ]
  },
  {
   "cell_type": "markdown",
   "id": "25416b1b",
   "metadata": {},
   "source": [
    "# 2. What function is used to rename files?\n",
    "\n",
    "ANSWER- os.rename() function is used to rename files or directories using a python program.This function takes two arguments source and destination ,where source represents the name of file or directory which we want to rename and destination represents the new name of the file or directory."
   ]
  },
  {
   "cell_type": "markdown",
   "id": "2deeec9b",
   "metadata": {},
   "source": [
    "# 3. What is the difference between the delete functions in the send2trash and shutil modules?\n",
    "\n",
    "ANSWER- The send2trash module provides a function called send2trash.send2trash() to delete a file or directory.These methods moves the files or directories to trash folder instead of permantely deleting them.It can be still recovered from the trash folder.\n",
    "\n",
    "   The shutil module provides a function called as shutil.rmtree() which deletes a directory and all its contents.It will be lost permantely."
   ]
  },
  {
   "cell_type": "markdown",
   "id": "b811aa75",
   "metadata": {},
   "source": [
    "# 4.ZipFile objects have a close() method just like File objects’ close() method. What ZipFile method is equivalent to File objects’ open() method?\n",
    "\n",
    "ANSWER- ZipFile module provides a method called as zipfile.ZipFile() to read and write to zipfiles.It takes arguments like filename and mode -> zipfile.ZipFile('filename',mode='r')."
   ]
  },
  {
   "cell_type": "markdown",
   "id": "3e825281",
   "metadata": {},
   "source": [
    "# 5. Create a programme that searches a folder tree for files with a certain file extension (such as .pdf or .jpg). Copy these files from whatever location they are in to a new folder.\n",
    "\n",
    "ANSWER- Code given below"
   ]
  },
  {
   "cell_type": "code",
   "execution_count": 2,
   "id": "20eef35f",
   "metadata": {},
   "outputs": [
    {
     "name": "stdout",
     "output_type": "stream",
     "text": [
      "Looking in C:\\Users\\hp\\Untitled Folder for files with extensions of .pdf, .jpg, .ipynb\n",
      "Folder Name ➞ C:\\Users\\hp\\Untitled Folder\n",
      "\n",
      "Sub Folders ➞ ['4. GUI Programming']\n",
      "\n",
      "Files ➞ ['Assignment2.ipnb.ipynb', 'Assignment2_FSDS.ipynb', 'Assignment_1_FSDS.ipynb', 'Assignment_4_FSDS.ipynb', 'Assignment_5_FSDS.ipynb', 'Assignment_6_FSDS.ipynb', 'Assignment_7_FSDS.ipynb', 'Assignment_8_FSDS.ipynb', 'Assignment_9_FSDS.ipynb', 'logging (1) (1).ipynb', 'sanjayPP.pdf', 'sanjay_Assignment1.ipynb']\n",
      "\n",
      "Coping C:\\Users\\hp\\Untitled Folder\\Assignment2.ipnb.ipynb to C:\\Users\\hp\\selectiveFolder\n",
      "Coping C:\\Users\\hp\\Untitled Folder\\Assignment2_FSDS.ipynb to C:\\Users\\hp\\selectiveFolder\n",
      "Coping C:\\Users\\hp\\Untitled Folder\\Assignment_1_FSDS.ipynb to C:\\Users\\hp\\selectiveFolder\n",
      "Coping C:\\Users\\hp\\Untitled Folder\\Assignment_4_FSDS.ipynb to C:\\Users\\hp\\selectiveFolder\n",
      "Coping C:\\Users\\hp\\Untitled Folder\\Assignment_5_FSDS.ipynb to C:\\Users\\hp\\selectiveFolder\n",
      "Coping C:\\Users\\hp\\Untitled Folder\\Assignment_6_FSDS.ipynb to C:\\Users\\hp\\selectiveFolder\n",
      "Coping C:\\Users\\hp\\Untitled Folder\\Assignment_7_FSDS.ipynb to C:\\Users\\hp\\selectiveFolder\n",
      "Coping C:\\Users\\hp\\Untitled Folder\\Assignment_8_FSDS.ipynb to C:\\Users\\hp\\selectiveFolder\n",
      "Coping C:\\Users\\hp\\Untitled Folder\\Assignment_9_FSDS.ipynb to C:\\Users\\hp\\selectiveFolder\n",
      "Coping C:\\Users\\hp\\Untitled Folder\\logging (1) (1).ipynb to C:\\Users\\hp\\selectiveFolder\n",
      "Coping C:\\Users\\hp\\Untitled Folder\\sanjayPP.pdf to C:\\Users\\hp\\selectiveFolder\n",
      "Coping C:\\Users\\hp\\Untitled Folder\\sanjay_Assignment1.ipynb to C:\\Users\\hp\\selectiveFolder\n",
      "Folder Name ➞ C:\\Users\\hp\\Untitled Folder\\4. GUI Programming\n",
      "\n",
      "Sub Folders ➞ ['4. GUI Programming']\n",
      "\n",
      "Files ➞ ['4. GUI Programming.zip']\n",
      "\n",
      "Folder Name ➞ C:\\Users\\hp\\Untitled Folder\\4. GUI Programming\\4. GUI Programming\n",
      "\n",
      "Sub Folders ➞ ['.ipynb_checkpoints']\n",
      "\n",
      "Files ➞ ['GUI Programming-1.ipynb', 'GUI Programming-2.ipynb', 'GUI Programming-3.ipynb', 'GUI Programming-4.ipynb', 'GUI Programming-5.ipynb', 'GUI Programming-6.ipynb', 'GUI Programming-7.ipynb']\n",
      "\n",
      "Coping C:\\Users\\hp\\Untitled Folder\\4. GUI Programming\\4. GUI Programming\\GUI Programming-1.ipynb to C:\\Users\\hp\\selectiveFolder\n",
      "Coping C:\\Users\\hp\\Untitled Folder\\4. GUI Programming\\4. GUI Programming\\GUI Programming-2.ipynb to C:\\Users\\hp\\selectiveFolder\n",
      "Coping C:\\Users\\hp\\Untitled Folder\\4. GUI Programming\\4. GUI Programming\\GUI Programming-3.ipynb to C:\\Users\\hp\\selectiveFolder\n",
      "Coping C:\\Users\\hp\\Untitled Folder\\4. GUI Programming\\4. GUI Programming\\GUI Programming-4.ipynb to C:\\Users\\hp\\selectiveFolder\n",
      "Coping C:\\Users\\hp\\Untitled Folder\\4. GUI Programming\\4. GUI Programming\\GUI Programming-5.ipynb to C:\\Users\\hp\\selectiveFolder\n",
      "Coping C:\\Users\\hp\\Untitled Folder\\4. GUI Programming\\4. GUI Programming\\GUI Programming-6.ipynb to C:\\Users\\hp\\selectiveFolder\n",
      "Coping C:\\Users\\hp\\Untitled Folder\\4. GUI Programming\\4. GUI Programming\\GUI Programming-7.ipynb to C:\\Users\\hp\\selectiveFolder\n",
      "Folder Name ➞ C:\\Users\\hp\\Untitled Folder\\4. GUI Programming\\4. GUI Programming\\.ipynb_checkpoints\n",
      "\n",
      "Sub Folders ➞ []\n",
      "\n",
      "Files ➞ ['GUI Programming-1-checkpoint.ipynb', 'GUI Programming-2-checkpoint.ipynb']\n",
      "\n",
      "Coping C:\\Users\\hp\\Untitled Folder\\4. GUI Programming\\4. GUI Programming\\.ipynb_checkpoints\\GUI Programming-1-checkpoint.ipynb to C:\\Users\\hp\\selectiveFolder\n",
      "Coping C:\\Users\\hp\\Untitled Folder\\4. GUI Programming\\4. GUI Programming\\.ipynb_checkpoints\\GUI Programming-2-checkpoint.ipynb to C:\\Users\\hp\\selectiveFolder\n"
     ]
    }
   ],
   "source": [
    "import os, shutil\n",
    "\n",
    "def selectiveCopy(folder, extensions, destFolder):\n",
    "    folder = os.path.abspath(folder)\n",
    "    destFolder = os.path.abspath(destFolder)\n",
    "    print('Looking in', folder, 'for files with extensions of', ', '.join(extensions))\n",
    "    for foldername, subfolders, filenames in os.walk(folder):\n",
    "        print(f'Folder Name ➞ {foldername}',end='\\n\\n')\n",
    "        print(f'Sub Folders ➞ {subfolders}',end='\\n\\n')\n",
    "        print(f'Files ➞ {filenames}',end='\\n\\n')\n",
    "        for filename in filenames:\n",
    "            name, extension = os.path.splitext(filename)\n",
    "            if extension in extensions:\n",
    "                fileAbsPath = foldername + os.path.sep + filename\n",
    "                print('Coping', fileAbsPath, 'to', destFolder)\n",
    "                shutil.copy(fileAbsPath, destFolder)\n",
    "\n",
    "extensions = ['.pdf','.jpg','.ipynb']\n",
    "folder = 'Untitled Folder'\n",
    "destFolder = 'selectiveFolder'\n",
    "selectiveCopy(folder, extensions, destFolder)\n"
   ]
  },
  {
   "cell_type": "code",
   "execution_count": null,
   "id": "ecc19b22",
   "metadata": {},
   "outputs": [],
   "source": []
  }
 ],
 "metadata": {
  "kernelspec": {
   "display_name": "Python 3 (ipykernel)",
   "language": "python",
   "name": "python3"
  },
  "language_info": {
   "codemirror_mode": {
    "name": "ipython",
    "version": 3
   },
   "file_extension": ".py",
   "mimetype": "text/x-python",
   "name": "python",
   "nbconvert_exporter": "python",
   "pygments_lexer": "ipython3",
   "version": "3.9.12"
  }
 },
 "nbformat": 4,
 "nbformat_minor": 5
}
